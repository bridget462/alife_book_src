{
 "cells": [
  {
   "cell_type": "code",
   "execution_count": 2,
   "metadata": {},
   "outputs": [],
   "source": [
    "#!/usr/bin/env python\n",
    "# -*- coding: utf-8 -*-\n",
    "\n",
    "import sys, os\n",
    "sys.path.append(os.pardir)  # 親ディレクトリのファイルをインポートするための設定\n",
    "import numpy as np\n",
    "from alifebook_lib.visualizers import MatrixVisualizer\n",
    "\n",
    "# visualizerの初期化 (Appendix参照)\n",
    "visualizer = MatrixVisualizer()\n",
    "\n",
    "# シミュレーションの各パラメタ\n",
    "SPACE_GRID_SIZE = 256\n",
    "dx = 0.01\n",
    "dt = 1\n",
    "VISUALIZATION_STEP = 8  # 何ステップごとに画面を更新するか。\n",
    "\n",
    "# モデルの各パラメタ\n",
    "Du = 2e-5\n",
    "Dv = 1e-5\n",
    "f, k = 0.04, 0.06  # amorphous\n",
    "# f, k = 0.035, 0.065  # spots\n",
    "# f, k = 0.012, 0.05  # wandering bubbles\n",
    "# f, k = 0.025, 0.05  # waves\n",
    "# f, k = 0.022, 0.051 # stripe\n",
    "\n",
    "# 初期化\n",
    "u = np.ones((SPACE_GRID_SIZE, SPACE_GRID_SIZE))\n",
    "v = np.zeros((SPACE_GRID_SIZE, SPACE_GRID_SIZE))\n",
    "# 中央にSQUARE_SIZE四方の正方形を置く\n",
    "SQUARE_SIZE = 20\n",
    "u[SPACE_GRID_SIZE//2-SQUARE_SIZE//2:SPACE_GRID_SIZE//2+SQUARE_SIZE//2,\n",
    "  SPACE_GRID_SIZE//2-SQUARE_SIZE//2:SPACE_GRID_SIZE//2+SQUARE_SIZE//2] = 0.5\n",
    "v[SPACE_GRID_SIZE//2-SQUARE_SIZE//2:SPACE_GRID_SIZE//2+SQUARE_SIZE//2,\n",
    "  SPACE_GRID_SIZE//2-SQUARE_SIZE//2:SPACE_GRID_SIZE//2+SQUARE_SIZE//2] = 0.25\n",
    "# 対称性を壊すために、少しノイズを入れる\n",
    "u += np.random.rand(SPACE_GRID_SIZE, SPACE_GRID_SIZE)*0.1\n",
    "v += np.random.rand(SPACE_GRID_SIZE, SPACE_GRID_SIZE)*0.1\n",
    "\n",
    "# while visualizer:  # visualizerはウィンドウが閉じられるとFalseを返す\n",
    "#     for i in range(VISUALIZATION_STEP):\n",
    "#         # ラプラシアンの計算\n",
    "#         laplacian_u = (np.roll(u, 1, axis=0) + np.roll(u, -1, axis=0) +\n",
    "#                        np.roll(u, 1, axis=1) + np.roll(u, -1, axis=1) - 4*u) / (dx*dx)\n",
    "#         laplacian_v = (np.roll(v, 1, axis=0) + np.roll(v, -1, axis=0) +\n",
    "#                        np.roll(v, 1, axis=1) + np.roll(v, -1, axis=1) - 4*v) / (dx*dx)\n",
    "#         # Gray-Scottモデル方程式\n",
    "#         dudt = Du*laplacian_u - u*v*v + f*(1.0-u)\n",
    "#         dvdt = Dv*laplacian_v + u*v*v - (f+k)*v\n",
    "#         u += dt * dudt\n",
    "#         v += dt * dvdt\n",
    "#     # 表示をアップデート\n",
    "#     visualizer.update(u)\n"
   ]
  },
  {
   "cell_type": "code",
   "execution_count": 4,
   "metadata": {},
   "outputs": [
    {
     "data": {
      "text/plain": [
       "numpy.ndarray"
      ]
     },
     "execution_count": 4,
     "metadata": {},
     "output_type": "execute_result"
    }
   ],
   "source": [
    "type(u)"
   ]
  },
  {
   "cell_type": "code",
   "execution_count": 5,
   "metadata": {},
   "outputs": [
    {
     "data": {
      "text/plain": [
       "(256, 256)"
      ]
     },
     "execution_count": 5,
     "metadata": {},
     "output_type": "execute_result"
    }
   ],
   "source": [
    "u.shape"
   ]
  },
  {
   "cell_type": "code",
   "execution_count": 7,
   "metadata": {},
   "outputs": [
    {
     "data": {
      "text/plain": [
       "(10, 10)"
      ]
     },
     "execution_count": 7,
     "metadata": {},
     "output_type": "execute_result"
    }
   ],
   "source": [
    "sample_matrix = np.array([[1 for col in range(10)] for row in range(10)])\n",
    "sample_matrix.shape"
   ]
  },
  {
   "cell_type": "code",
   "execution_count": null,
   "metadata": {},
   "outputs": [],
   "source": []
  }
 ],
 "metadata": {
  "interpreter": {
   "hash": "b898120fffe41af0c4230053d6ed28bb84d55a18117f37b247b1b3e6575917ee"
  },
  "kernelspec": {
   "display_name": "Python 3.8.9 ('alife_book_src-DfkzxA2P')",
   "language": "python",
   "name": "python3"
  },
  "language_info": {
   "codemirror_mode": {
    "name": "ipython",
    "version": 3
   },
   "file_extension": ".py",
   "mimetype": "text/x-python",
   "name": "python",
   "nbconvert_exporter": "python",
   "pygments_lexer": "ipython3",
   "version": "3.8.9"
  },
  "orig_nbformat": 4
 },
 "nbformat": 4,
 "nbformat_minor": 2
}
